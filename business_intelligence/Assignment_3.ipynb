{
 "cells": [
  {
   "cell_type": "markdown",
   "metadata": {},
   "source": [
    "# Assignment 3"
   ]
  },
  {
   "cell_type": "markdown",
   "metadata": {},
   "source": [
    "**0.** First, you need to download the [wine quality dataset](https://archive.ics.uci.edu/ml/machine-learning-databases/wine-quality/winequality-white.csv) from the UCI machine learning repository.\n",
    "\n",
    "The following code uses Pandas to read the CSV file and store them in a DataFrame object named data, you should indicate the delimiter as ';'. Next, it will display the first five rows of the data frame."
   ]
  },
  {
   "cell_type": "code",
   "execution_count": null,
   "metadata": {},
   "outputs": [],
   "source": [
    "import pandas as pd\n",
    "\n",
    "data = pd.read_csv('https://archive.ics.uci.edu/ml/machine-learning-databases/wine-quality/winequality-white.csv', delimiter=';')\n",
    "#data = pd.read_csv('https://github.com/liuhoward/teaching/raw/master/business_intelligence/winequality-white.csv', delimiter=';')\n",
    "print('number of rows before: {}'.format(len(data)))\n",
    "# remove duplicated rows\n",
    "data.drop_duplicates(inplace=True)\n",
    "print('number of rows after: {}'.format(len(data)))\n",
    "data.head()"
   ]
  },
  {
   "cell_type": "markdown",
   "metadata": {},
   "source": [
    "**1. Data exploration**  "
   ]
  },
  {
   "cell_type": "markdown",
   "metadata": {},
   "source": [
    "1)\tCompute Mean, Standard deviation, Minimum, Maximum for each of the 12 attributes."
   ]
  },
  {
   "cell_type": "code",
   "execution_count": null,
   "metadata": {},
   "outputs": [],
   "source": [
    "from pandas.api.types import is_numeric_dtype\n",
    "\n",
    "for col in data.columns:\n",
    "    if is_numeric_dtype(data[col]):\n",
    "        print('%s:' % (col))\n",
    "        print('\\t Mean = %.2f' % data[col].mean())\n",
    "        print('\\t Standard deviation = %.2f' % data[col].std())\n",
    "        print('\\t Minimum = %.2f' % data[col].min())\n",
    "        print('\\t Maximum = %.2f' % data[col].max())"
   ]
  },
  {
   "cell_type": "markdown",
   "metadata": {},
   "source": [
    "2)\tPlot the histogram and boxplot for each of the 12 attributes."
   ]
  },
  {
   "cell_type": "code",
   "execution_count": null,
   "metadata": {},
   "outputs": [],
   "source": [
    "%matplotlib inline\n",
    "\n",
    "data.hist(bins=50, figsize=(10,10))"
   ]
  },
  {
   "cell_type": "code",
   "execution_count": null,
   "metadata": {},
   "outputs": [],
   "source": [
    "%matplotlib inline\n",
    "\n",
    "data.boxplot(figsize=(15, 10), rot=45, fontsize=15)"
   ]
  },
  {
   "cell_type": "markdown",
   "metadata": {},
   "source": [
    "3)\tCompute the correlation for each pair of attributes. It should be a 12x12 correlation matrix. Discuss the correlation between each attribute and the Quality (which is the last attribute) and identify the ones that are most/least related to the Quality."
   ]
  },
  {
   "cell_type": "code",
   "execution_count": null,
   "metadata": {},
   "outputs": [],
   "source": [
    "print('Correlation:')\n",
    "data.corr()"
   ]
  },
  {
   "cell_type": "markdown",
   "metadata": {},
   "source": [
    "We can also plot the correlation with different colors."
   ]
  },
  {
   "cell_type": "code",
   "execution_count": null,
   "metadata": {},
   "outputs": [],
   "source": [
    "import matplotlib.pyplot as plt\n",
    "\n",
    "corr = data.corr()\n",
    "\n",
    "plt.matshow(corr)\n",
    "plt.xticks(range(len(corr.columns)), corr.columns, rotation=90);\n",
    "plt.yticks(range(len(corr.columns)), corr.columns);\n",
    "plt.show()"
   ]
  },
  {
   "cell_type": "markdown",
   "metadata": {},
   "source": [
    "**2. Similarity**"
   ]
  },
  {
   "cell_type": "markdown",
   "metadata": {},
   "source": [
    "1)  Extract these instances (i.e., rows) with the Quality score as 8 and then compute the Euclidean distance between any two instances (i.e., rows) among these extracted ones. Identify the top-10 pairs that have the smallest Euclidean distance."
   ]
  },
  {
   "cell_type": "code",
   "execution_count": null,
   "metadata": {},
   "outputs": [],
   "source": [
    "# select data with quality==8\n",
    "data_quality8 = data[data['quality'] == 8]\n",
    "\n",
    "data_quality8.head()"
   ]
  },
  {
   "cell_type": "code",
   "execution_count": null,
   "metadata": {},
   "outputs": [],
   "source": [
    "from sklearn.metrics.pairwise import euclidean_distances\n",
    "import numpy as np\n",
    "\n",
    "# calulate euclidean distances as a matrix\n",
    "euclidean_dist = euclidean_distances(data_quality8)\n",
    "euclidean_dist"
   ]
  },
  {
   "cell_type": "code",
   "execution_count": null,
   "metadata": {},
   "outputs": [],
   "source": [
    "# convert it to an vector\n",
    "euclidean_dist_array = list()\n",
    "size = len(data_quality8)\n",
    "for i in range(size):\n",
    "    for j in range(i + 1, size):\n",
    "        euclidean_dist_array.append((i, j, euclidean_dist[i][j]))\n",
    "        \n",
    "# sort the distances\n",
    "sorted_dist = sorted(euclidean_dist_array, key=lambda e: e[2])\n",
    "\n",
    "for k in range(10):\n",
    "    print('top {} pair:'.format(k + 1))\n",
    "    i_index, j_index, distance = sorted_dist[k]\n",
    "    print('euclidiean distance = %.8f' % distance)\n",
    "    # column names are too long, so we do not display them by setting 'header=False'\n",
    "    print((data_quality8.loc[data_quality8.index[[i_index, j_index]], data_quality8.columns]).to_string(header=False))\n",
    "    print('\\n')"
   ]
  },
  {
   "cell_type": "markdown",
   "metadata": {},
   "source": [
    "2)\tExtract these instances with the Quality score as 8 and then compute the Cosine similarity between any two instances (i.e., rows) among these extracted ones. Identify the top-10 pairs that have the highest Cosine similarity."
   ]
  },
  {
   "cell_type": "code",
   "execution_count": null,
   "metadata": {},
   "outputs": [],
   "source": [
    "from sklearn.metrics.pairwise import cosine_similarity\n",
    "import numpy as np\n",
    "\n",
    "# calulate cosine similarity as a matrix\n",
    "cosine_sim = cosine_similarity(data_quality8)\n",
    "cosine_sim"
   ]
  },
  {
   "cell_type": "code",
   "execution_count": null,
   "metadata": {},
   "outputs": [],
   "source": [
    "# convert it to an vector\n",
    "cosine_sim_array = list()\n",
    "size = len(data_quality8)\n",
    "for i in range(size):\n",
    "    for j in range(i + 1, size):\n",
    "        cosine_sim_array.append((i, j, cosine_sim[i][j]))\n",
    "        \n",
    "# sort the distances\n",
    "sorted_sim = sorted(cosine_sim_array, key=lambda e: e[2], reverse=True)\n",
    "\n",
    "for k in range(10):\n",
    "    print('top {} pair:'.format(k + 1))\n",
    "    i_index, j_index, distance = sorted_sim[k]\n",
    "    print('cosine similarity = %.8f' % distance)\n",
    "    # column names are too long, so we do not display them by setting 'header=False'\n",
    "    print((data_quality8.loc[data_quality8.index[[i_index, j_index]], data_quality8.columns]).to_string(header=False))\n",
    "    print('\\n')"
   ]
  },
  {
   "cell_type": "markdown",
   "metadata": {},
   "source": [
    "3)\tCompare two top-10 lists and discuss about which measure (Euclidean and Cosine) works better. "
   ]
  },
  {
   "cell_type": "markdown",
   "metadata": {},
   "source": [
    "your answer:"
   ]
  },
  {
   "cell_type": "markdown",
   "metadata": {},
   "source": [
    "**3. Data preprocessing**"
   ]
  },
  {
   "cell_type": "markdown",
   "metadata": {},
   "source": [
    "1)\tUse the first 11 attributes (excluding the Quality) data and run PCA to reduce the data to 2-dimension data."
   ]
  },
  {
   "cell_type": "markdown",
   "metadata": {},
   "source": [
    "Using PCA, the data matrix is projected to its first two principal components. The projected values of the original image data are stored in a pandas DataFrame object named projected."
   ]
  },
  {
   "cell_type": "code",
   "execution_count": null,
   "metadata": {},
   "outputs": [],
   "source": [
    "import pandas as pd\n",
    "from sklearn.decomposition import PCA\n",
    "\n",
    "# slice data to keep only 11 attributes\n",
    "data_no_quality = data.iloc[:, 0:11]\n",
    "\n",
    "numComponents = 2\n",
    "pca = PCA(n_components=numComponents)\n",
    "pca.fit(data_no_quality)\n",
    "\n",
    "projected = pca.transform(data_no_quality)\n",
    "projected = pd.DataFrame(projected,columns=['pc1','pc2'],index=data_no_quality.index)\n",
    "\n",
    "projected.head()"
   ]
  },
  {
   "cell_type": "markdown",
   "metadata": {},
   "source": [
    "2)\tPlot the scatterplot using the reduced 2-dimension data and label each instance (one point in 2-dimension) with different color indicating different Quality score."
   ]
  },
  {
   "cell_type": "code",
   "execution_count": null,
   "metadata": {},
   "outputs": [],
   "source": [
    "# add quality label\n",
    "projected['quality'] = data['quality']\n",
    "projected.head()\n"
   ]
  },
  {
   "cell_type": "code",
   "execution_count": null,
   "metadata": {},
   "outputs": [],
   "source": [
    "import matplotlib.pyplot as plt\n",
    "\n",
    "plt.figure(figsize=(30,20))\n",
    "\n",
    "colors = {3:'b', 4:'g', 5:'r', 6:'c', 7:'m', 8:'y', 9:'k'}\n",
    "markerTypes = {3:'s', 4:'v', 5:'^', 6:'o', 7:'+', 8:'x', 9:'D'}\n",
    "\n",
    "for quality_type in markerTypes.keys():\n",
    "    d = projected[projected['quality']==quality_type]\n",
    "    plt.scatter(d['pc1'],d['pc2'],c=colors[quality_type],s=60,marker=markerTypes[quality_type])"
   ]
  },
  {
   "cell_type": "markdown",
   "metadata": {},
   "source": [
    "3)\tExamine the scatterplot results and discuss about the potential clusters and outliers."
   ]
  },
  {
   "cell_type": "markdown",
   "metadata": {},
   "source": [
    "your answer"
   ]
  }
 ],
 "metadata": {
  "kernelspec": {
   "display_name": "Python 3",
   "language": "python",
   "name": "python3"
  },
  "language_info": {
   "codemirror_mode": {
    "name": "ipython",
    "version": 3
   },
   "file_extension": ".py",
   "mimetype": "text/x-python",
   "name": "python",
   "nbconvert_exporter": "python",
   "pygments_lexer": "ipython3",
   "version": "3.6.9"
  }
 },
 "nbformat": 4,
 "nbformat_minor": 2
}

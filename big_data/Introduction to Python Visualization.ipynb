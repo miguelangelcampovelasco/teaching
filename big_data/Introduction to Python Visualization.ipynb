{
 "cells": [
  {
   "cell_type": "markdown",
   "metadata": {
    "colab_type": "text",
    "id": "xNzEBRkzL3B0"
   },
   "source": [
    "## Matplotlib\n",
    "\n",
    "[Matplotlib](http://matplotlib.org/) is the most common charting package, see its [documentation](http://matplotlib.org/api/pyplot_api.html) for details, and its [examples](http://matplotlib.org/gallery.html#statistics) for inspiration."
   ]
  },
  {
   "cell_type": "markdown",
   "metadata": {
    "colab_type": "text",
    "id": "WALI8x49GUpe"
   },
   "source": [
    "### Line Plots"
   ]
  },
  {
   "cell_type": "code",
   "execution_count": null,
   "metadata": {
    "colab": {},
    "colab_type": "code",
    "id": "08RTGn_xE3MP",
    "outputId": "908732cc-757d-46d8-ac75-5bdb5ba51cfe"
   },
   "outputs": [],
   "source": [
    "import matplotlib.pyplot as plt\n",
    "\n",
    "x  = [1, 2, 3, 4, 5, 6, 7, 8, 9]\n",
    "y1 = [1, 3, 5, 3, 1, 3, 5, 3, 1]\n",
    "y2 = [2, 4, 6, 4, 2, 4, 6, 4, 2]\n",
    "plt.plot(x, y1, label=\"line L\")\n",
    "plt.plot(x, y2, label=\"line H\")\n",
    "plt.plot()\n",
    "\n",
    "plt.xlabel(\"x axis\")\n",
    "plt.ylabel(\"y axis\")\n",
    "plt.title(\"Line Graph Example\")\n",
    "plt.legend()\n",
    "plt.show()"
   ]
  },
  {
   "cell_type": "markdown",
   "metadata": {
    "colab_type": "text",
    "id": "sIZLTZ0pdo0Z"
   },
   "source": [
    "### Bar Plots"
   ]
  },
  {
   "cell_type": "code",
   "execution_count": null,
   "metadata": {
    "colab": {},
    "colab_type": "code",
    "id": "bZv4MenQpYOF",
    "outputId": "ce9608d5-e7ea-4ac7-856f-a265b3d0eee9"
   },
   "outputs": [],
   "source": [
    "import matplotlib.pyplot as plt\n",
    "\n",
    "# Look at index 4 and 6, which demonstrate overlapping cases.\n",
    "x1 = [1, 3, 4, 5, 6, 7, 9]\n",
    "y1 = [4, 7, 2, 4, 7, 8, 3]\n",
    "\n",
    "x2 = [2, 4, 6, 8, 10]\n",
    "y2 = [5, 6, 2, 6, 2]\n",
    "\n",
    "# Colors: https://matplotlib.org/api/colors_api.html\n",
    "\n",
    "plt.bar(x1, y1, label=\"Blue Bar\", color='b')\n",
    "plt.bar(x2, y2, label=\"Green Bar\", color='g')\n",
    "plt.plot()\n",
    "\n",
    "plt.xlabel(\"bar number\")\n",
    "plt.ylabel(\"bar height\")\n",
    "plt.title(\"Bar Chart Example\")\n",
    "plt.legend()\n",
    "plt.show()"
   ]
  },
  {
   "cell_type": "markdown",
   "metadata": {
    "colab_type": "text",
    "id": "YQO2Lw8Xdu7x"
   },
   "source": [
    "### Histograms"
   ]
  },
  {
   "cell_type": "code",
   "execution_count": null,
   "metadata": {
    "cellView": "both",
    "colab": {},
    "colab_type": "code",
    "id": "SZ-DMbnPMbMY",
    "outputId": "8c1089d5-ecf0-492b-cf21-8f30ddc45862"
   },
   "outputs": [],
   "source": [
    "import matplotlib.pyplot as plt\n",
    "import numpy as np\n",
    "\n",
    "# Use numpy to generate a bunch of random data in a bell curve around 5.\n",
    "n = 5 + np.random.randn(1000)\n",
    "\n",
    "m = [m for m in range(len(n))]\n",
    "plt.bar(m, n)\n",
    "plt.title(\"Raw Data\")\n",
    "plt.show()\n",
    "\n",
    "plt.hist(n, bins=20)\n",
    "plt.title(\"Histogram\")\n",
    "plt.show()\n",
    "\n",
    "plt.hist(n, cumulative=True, bins=20)\n",
    "plt.title(\"Cumulative Histogram\")\n",
    "plt.show()"
   ]
  },
  {
   "cell_type": "markdown",
   "metadata": {
    "colab_type": "text",
    "id": "9-CelVUmdz8r"
   },
   "source": [
    "### Scatter Plots"
   ]
  },
  {
   "cell_type": "code",
   "execution_count": null,
   "metadata": {
    "colab": {},
    "colab_type": "code",
    "id": "79C7jc9mv-Ji",
    "outputId": "cf0c0e0e-8443-465e-f135-c518d818d486"
   },
   "outputs": [],
   "source": [
    "import matplotlib.pyplot as plt\n",
    "\n",
    "x1 = [2, 3, 4]\n",
    "y1 = [5, 5, 5]\n",
    "\n",
    "x2 = [1, 2, 3, 4, 5]\n",
    "y2 = [2, 3, 2, 3, 4]\n",
    "y3 = [6, 8, 7, 8, 7]\n",
    "\n",
    "# Markers: https://matplotlib.org/api/markers_api.html\n",
    "\n",
    "plt.scatter(x1, y1)\n",
    "plt.scatter(x2, y2, marker='v', color='r')\n",
    "plt.scatter(x2, y3, marker='^', color='m')\n",
    "plt.title('Scatter Plot Example')\n",
    "plt.show()"
   ]
  },
  {
   "cell_type": "markdown",
   "metadata": {
    "colab_type": "text",
    "id": "nlk-Sk0Nd82p"
   },
   "source": [
    "### Stack Plots"
   ]
  },
  {
   "cell_type": "code",
   "execution_count": null,
   "metadata": {
    "colab": {},
    "colab_type": "code",
    "id": "5sxEM0pJzpgr",
    "outputId": "264a9408-1739-46c6-d978-3987c275dabf"
   },
   "outputs": [],
   "source": [
    "import matplotlib.pyplot as plt\n",
    "\n",
    "idxes = [ 1,  2,  3,  4,  5,  6,  7,  8,  9]\n",
    "arr1  = [23, 40, 28, 43,  8, 44, 43, 18, 17]\n",
    "arr2  = [17, 30, 22, 14, 17, 17, 29, 22, 30]\n",
    "arr3  = [15, 31, 18, 22, 18, 19, 13, 32, 39]\n",
    "\n",
    "# Adding legend for stack plots is tricky.\n",
    "plt.plot([], [], color='r', label = 'D 1')\n",
    "plt.plot([], [], color='g', label = 'D 2')\n",
    "plt.plot([], [], color='b', label = 'D 3')\n",
    "\n",
    "plt.stackplot(idxes, arr1, arr2, arr3, colors= ['r', 'g', 'b'])\n",
    "plt.title('Stack Plot Example')\n",
    "plt.legend()\n",
    "plt.show()"
   ]
  },
  {
   "cell_type": "markdown",
   "metadata": {
    "colab_type": "text",
    "id": "C0LOohpqeCjx"
   },
   "source": [
    "### Pie Charts"
   ]
  },
  {
   "cell_type": "code",
   "execution_count": null,
   "metadata": {
    "colab": {},
    "colab_type": "code",
    "id": "ZdEG-d4g4U6v",
    "outputId": "51f53730-aa0a-4a10-d5f0-ed4293dc832b"
   },
   "outputs": [],
   "source": [
    "import matplotlib.pyplot as plt\n",
    "\n",
    "labels = 'S1', 'S2', 'S3'\n",
    "sections = [56, 66, 24]\n",
    "colors = ['c', 'g', 'y']\n",
    "\n",
    "plt.pie(sections, labels=labels, colors=colors,\n",
    "        startangle=90,\n",
    "        explode = (0, 0.1, 0),\n",
    "        autopct = '%1.2f%%')\n",
    "\n",
    "plt.axis('equal') # Try commenting this out.\n",
    "plt.title('Pie Chart Example')\n",
    "plt.show()"
   ]
  },
  {
   "cell_type": "markdown",
   "metadata": {
    "colab_type": "text",
    "id": "sX97x87MTyIf"
   },
   "source": [
    "### fill_between and alpha"
   ]
  },
  {
   "cell_type": "code",
   "execution_count": null,
   "metadata": {
    "colab": {},
    "colab_type": "code",
    "id": "BCUl8mTMT4sN",
    "outputId": "f52ac738-a80d-4d4a-b112-e3acb9334eed"
   },
   "outputs": [],
   "source": [
    "import matplotlib.pyplot as plt\n",
    "import numpy as np\n",
    "\n",
    "ys = 200 + np.random.randn(100)\n",
    "x = [x for x in range(len(ys))]\n",
    "\n",
    "plt.plot(x, ys, '-')\n",
    "plt.fill_between(x, ys, 195, where=(ys > 195), facecolor='g', alpha=0.6)\n",
    "\n",
    "plt.title(\"Fills and Alpha Example\")\n",
    "plt.show()"
   ]
  },
  {
   "cell_type": "markdown",
   "metadata": {
    "colab_type": "text",
    "id": "jONspxyzeT4Y"
   },
   "source": [
    "### Subplotting using Subplot2grid"
   ]
  },
  {
   "cell_type": "code",
   "execution_count": null,
   "metadata": {
    "colab": {
     "base_uri": "https://localhost:8080/",
     "height": 401
    },
    "colab_type": "code",
    "id": "JF-dVGj3ExQm",
    "outputId": "df00765b-d58a-4ad0-ce52-b1670a86f486"
   },
   "outputs": [],
   "source": [
    "import matplotlib.pyplot as plt\n",
    "import numpy as np\n",
    "\n",
    "def random_plots():\n",
    "  xs = []\n",
    "  ys = []\n",
    "  \n",
    "  for i in range(20):\n",
    "    x = i\n",
    "    y = np.random.randint(10)\n",
    "    \n",
    "    xs.append(x)\n",
    "    ys.append(y)\n",
    "  \n",
    "  return xs, ys\n",
    "\n",
    "fig = plt.figure()\n",
    "ax1 = plt.subplot2grid((5, 2), (0, 0), rowspan=1, colspan=2)\n",
    "ax2 = plt.subplot2grid((5, 2), (1, 0), rowspan=3, colspan=2)\n",
    "ax3 = plt.subplot2grid((5, 2), (4, 0), rowspan=1, colspan=1)\n",
    "ax4 = plt.subplot2grid((5, 2), (4, 1), rowspan=1, colspan=1)\n",
    "\n",
    "x, y = random_plots()\n",
    "ax1.plot(x, y)\n",
    "\n",
    "x, y = random_plots()\n",
    "ax2.plot(x, y)\n",
    "\n",
    "x, y = random_plots()\n",
    "ax3.plot(x, y)\n",
    "\n",
    "x, y = random_plots()\n",
    "ax4.plot(x, y)\n",
    "\n",
    "plt.tight_layout()\n",
    "plt.show()"
   ]
  },
  {
   "cell_type": "markdown",
   "metadata": {
    "colab_type": "text",
    "id": "Xn0jLwr8evoR"
   },
   "source": [
    "## 3D Graphs"
   ]
  },
  {
   "cell_type": "markdown",
   "metadata": {
    "colab_type": "text",
    "id": "DrRCtocXe9SB"
   },
   "source": [
    "### 3D Scatter Plots"
   ]
  },
  {
   "cell_type": "code",
   "execution_count": null,
   "metadata": {
    "colab": {
     "base_uri": "https://localhost:8080/",
     "height": 401
    },
    "colab_type": "code",
    "id": "Eo2bdDQ5GZ76",
    "outputId": "7aceedf3-d92f-464c-b22c-34b34adb3e12"
   },
   "outputs": [],
   "source": [
    "import matplotlib.pyplot as plt\n",
    "import numpy as np\n",
    "from mpl_toolkits.mplot3d import axes3d\n",
    "\n",
    "fig = plt.figure()\n",
    "ax = fig.add_subplot(111, projection = '3d')\n",
    "\n",
    "x1 = [1, 2, 3, 4, 5, 6, 7, 8, 9, 10]\n",
    "y1 = np.random.randint(10, size=10)\n",
    "z1 = np.random.randint(10, size=10)\n",
    "\n",
    "x2 = [-1, -2, -3, -4, -5, -6, -7, -8, -9, -10]\n",
    "y2 = np.random.randint(-10, 0, size=10)\n",
    "z2 = np.random.randint(10, size=10)\n",
    "\n",
    "ax.scatter(x1, y1, z1, c='b', marker='o', label='blue')\n",
    "ax.scatter(x2, y2, z2, c='g', marker='D', label='green')\n",
    "\n",
    "ax.set_xlabel('x axis')\n",
    "ax.set_ylabel('y axis')\n",
    "ax.set_zlabel('z axis')\n",
    "plt.title(\"3D Scatter Plot Example\")\n",
    "plt.legend()\n",
    "plt.tight_layout()\n",
    "plt.show()"
   ]
  },
  {
   "cell_type": "markdown",
   "metadata": {
    "colab_type": "text",
    "id": "MXVPkFpTfCE-"
   },
   "source": [
    "### 3D Bar Plots"
   ]
  },
  {
   "cell_type": "code",
   "execution_count": null,
   "metadata": {
    "colab": {
     "base_uri": "https://localhost:8080/",
     "height": 401
    },
    "colab_type": "code",
    "id": "YGi1XPCrGsQz",
    "outputId": "a6cfb9a4-8e96-47e4-9f51-8629508590d8"
   },
   "outputs": [],
   "source": [
    "import matplotlib.pyplot as plt\n",
    "import numpy as np\n",
    "\n",
    "fig = plt.figure()\n",
    "ax = fig.add_subplot(111, projection = '3d')\n",
    "\n",
    "x = [1, 2, 3, 4, 5, 6, 7, 8, 9, 10]\n",
    "y = np.random.randint(10, size=10)\n",
    "z = np.zeros(10)\n",
    "\n",
    "dx = np.ones(10)\n",
    "dy = np.ones(10)\n",
    "dz = [1, 2, 3, 4, 5, 6, 7, 8, 9, 10]\n",
    "\n",
    "ax.bar3d(x, y, z, dx, dy, dz, color='g')\n",
    "\n",
    "ax.set_xlabel('x axis')\n",
    "ax.set_ylabel('y axis')\n",
    "ax.set_zlabel('z axis')\n",
    "plt.title(\"3D Bar Chart Example\")\n",
    "plt.tight_layout()\n",
    "plt.show()"
   ]
  },
  {
   "cell_type": "markdown",
   "metadata": {
    "colab_type": "text",
    "id": "Xbey0KVpfIbQ"
   },
   "source": [
    "### Wireframe Plots"
   ]
  },
  {
   "cell_type": "code",
   "execution_count": null,
   "metadata": {
    "colab": {
     "base_uri": "https://localhost:8080/",
     "height": 401
    },
    "colab_type": "code",
    "id": "60f2SO4jIfQz",
    "outputId": "3600f6d7-501d-4144-9c99-6b8f807b0d5c"
   },
   "outputs": [],
   "source": [
    "import matplotlib.pyplot as plt\n",
    "\n",
    "fig = plt.figure()\n",
    "ax = fig.add_subplot(111, projection = '3d')\n",
    "\n",
    "x, y, z = axes3d.get_test_data()\n",
    "\n",
    "ax.plot_wireframe(x, y, z, rstride = 2, cstride = 2)\n",
    "\n",
    "plt.title(\"Wireframe Plot Example\")\n",
    "plt.tight_layout()\n",
    "plt.show()"
   ]
  },
  {
   "cell_type": "markdown",
   "metadata": {
    "colab_type": "text",
    "id": "cRkuifc7PazR"
   },
   "source": [
    "## Seaborn\n",
    "\n",
    "There are several libraries layered on top of Matplotlib that you can use. One that is worth highlighting is [Seaborn](http://seaborn.pydata.org):"
   ]
  },
  {
   "cell_type": "code",
   "execution_count": null,
   "metadata": {
    "cellView": "both",
    "colab": {},
    "colab_type": "code",
    "id": "el13bTbyPRw4",
    "outputId": "9063327c-064d-4213-ccf8-8af4e26c5106"
   },
   "outputs": [],
   "source": [
    "import matplotlib.pyplot as plt\n",
    "import numpy as np\n",
    "import seaborn as sns\n",
    "\n",
    "# Generate some random data\n",
    "num_points = 20\n",
    "# x will be 5, 6, 7... but also twiddled randomly\n",
    "x = 5 + np.arange(num_points) + np.random.randn(num_points)\n",
    "# y will be 10, 11, 12... but twiddled even more randomly\n",
    "y = 10 + np.arange(num_points) + 5 * np.random.randn(num_points)\n",
    "sns.regplot(x, y)\n",
    "plt.show()"
   ]
  },
  {
   "cell_type": "markdown",
   "metadata": {
    "colab_type": "text",
    "id": "MoWj1knmTZPI"
   },
   "source": [
    "That's a simple scatterplot with a nice regression line fit to it, all with just one call to Seaborn's [regplot](http://seaborn.pydata.org/generated/seaborn.regplot.html#seaborn.regplot).\n",
    "\n",
    "Here's a Seaborn [heatmap](https://seaborn.pydata.org/generated/seaborn.heatmap.html):"
   ]
  },
  {
   "cell_type": "code",
   "execution_count": null,
   "metadata": {
    "cellView": "both",
    "colab": {},
    "colab_type": "code",
    "id": "Fjw7UfGZQcL9",
    "outputId": "db8cf44f-dd21-491f-ef2d-e504d8ee7fe1"
   },
   "outputs": [],
   "source": [
    "import matplotlib.pyplot as plt\n",
    "import numpy as np\n",
    "\n",
    "# Make a 10 x 10 heatmap of some random data\n",
    "side_length = 10\n",
    "# Start with a 10 x 10 matrix with values randomized around 5\n",
    "data = 5 + np.random.randn(side_length, side_length)\n",
    "# The next two lines make the values larger as we get closer to (9, 9)\n",
    "data += np.arange(side_length)\n",
    "data += np.reshape(np.arange(side_length), (side_length, 1))\n",
    "# Generate the heatmap\n",
    "sns.heatmap(data)\n",
    "plt.show()"
   ]
  },
  {
   "cell_type": "markdown",
   "metadata": {
    "colab_type": "text",
    "id": "JGnotb1n73Yk"
   },
   "source": [
    "## Bokeh: \n",
    "Bokeh is an interactive visualization library that targets modern web browsers for presentation. Its goal is to provide elegant, concise construction of versatile graphics, and to extend this capability with high-performance interactivity over very large or streaming datasets. Bokeh can help anyone who would like to quickly and easily create interactive plots, dashboards, and data applications."
   ]
  },
  {
   "cell_type": "code",
   "execution_count": null,
   "metadata": {
    "colab": {},
    "colab_type": "code",
    "id": "vlOIt0zZ5uCz"
   },
   "outputs": [],
   "source": [
    "import numpy as np\n",
    "from bokeh.plotting import figure, show\n",
    "from bokeh.io import output_notebook\n",
    "\n",
    "# Call once to configure Bokeh to display plots inline in the notebook.\n",
    "output_notebook()"
   ]
  },
  {
   "cell_type": "code",
   "execution_count": null,
   "metadata": {
    "colab": {
     "base_uri": "https://localhost:8080/",
     "height": 617
    },
    "colab_type": "code",
    "id": "N-u5cYwpS-y0",
    "outputId": "4a24d18c-58cc-4b4b-d8f3-1863fb298778"
   },
   "outputs": [],
   "source": [
    "N = 4000\n",
    "x = np.random.random(size=N) * 100\n",
    "y = np.random.random(size=N) * 100\n",
    "radii = np.random.random(size=N) * 1.5\n",
    "colors = [\"#%02x%02x%02x\" % (r, g, 150) for r, g in zip(np.floor(50+2*x).astype(int), np.floor(30+2*y).astype(int))]\n",
    "\n",
    "p = figure()\n",
    "p.circle(x, y, radius=radii, fill_color=colors, fill_alpha=0.6, line_color=None)\n",
    "show(p)"
   ]
  },
  {
   "cell_type": "code",
   "execution_count": null,
   "metadata": {},
   "outputs": [],
   "source": []
  }
 ],
 "metadata": {
  "colab": {
   "collapsed_sections": [],
   "name": "Charts in Colaboratory",
   "provenance": [],
   "toc_visible": true,
   "version": "0.3.2"
  },
  "kernelspec": {
   "display_name": "Python 3",
   "language": "python",
   "name": "python3"
  },
  "language_info": {
   "codemirror_mode": {
    "name": "ipython",
    "version": 3
   },
   "file_extension": ".py",
   "mimetype": "text/x-python",
   "name": "python",
   "nbconvert_exporter": "python",
   "pygments_lexer": "ipython3",
   "version": "3.6.9"
  }
 },
 "nbformat": 4,
 "nbformat_minor": 1
}
